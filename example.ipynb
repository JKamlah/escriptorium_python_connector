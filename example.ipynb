{
 "cells": [
  {
   "cell_type": "markdown",
   "metadata": {},
   "source": [
    "# Using the eScriptorium Connector\n",
    "\n",
    "This library provides a simple API to access the eScriptorium online platform.\n",
    "\n",
    "Install with `pip install escriptorium-connector` and import it as follows."
   ]
  },
  {
   "cell_type": "code",
   "execution_count": 4,
   "metadata": {},
   "outputs": [],
   "source": [
    "from src.escriptorium_connector import EscriptoriumConnector\n",
    "import os\n",
    "from dotenv import load_dotenv\n",
    "import io"
   ]
  },
  {
   "cell_type": "markdown",
   "metadata": {},
   "source": [
    "## Instantiating the connector\n",
    "\n",
    "It is probably a best practice to store your validation credentials separately. Here we use `python-dotenv` to load from a `.env` file the user's login credentials and the eScriptorium instance address.\n",
    "\n",
    "The url of the eScriptorium instance is passed to the connector along with the url address for its api and the user's login credentials. The connector will take care of getting the API key for the user and any necessary cookies for asynchronous requests."
   ]
  },
  {
   "cell_type": "code",
   "execution_count": 5,
   "metadata": {},
   "outputs": [],
   "source": [
    "load_dotenv()\n",
    "url = str(os.getenv('ESCRIPTORIUM_URL'))\n",
    "api = f'{url}api/'\n",
    "username = str(os.getenv('ESCRIPTORIUM_USERNAME'))\n",
    "password = str(os.getenv('ESCRIPTORIUM_PASSWORD'))\n",
    "escr = EscriptoriumConnector(url, api, username, password)"
   ]
  },
  {
   "cell_type": "markdown",
   "metadata": {},
   "source": [
    "## Usage\n",
    "\n",
    "Once instantiated, the connector provides well-documented and convenient methods to interact with your data on eScriptorium.\n",
    "\n",
    "You might get a list of all your documents."
   ]
  },
  {
   "cell_type": "code",
   "execution_count": 6,
   "metadata": {},
   "outputs": [],
   "source": [
    "my_documents = escr.get_documents()\n",
    "document_pk = my_documents[0][\"pk\"]\n"
   ]
  },
  {
   "cell_type": "code",
   "execution_count": 7,
   "metadata": {},
   "outputs": [
    {
     "name": "stdout",
     "output_type": "stream",
     "text": [
      "12\n",
      "{'pk': 299, 'name': 'Geniza_complex', 'project': 'htr4pgp_project', 'transcriptions': [{'pk': 363, 'name': 'kraken:PGPsico1_19'}, {'pk': 361, 'name': 'kraken:PGPsimple74_4'}, {'pk': 360, 'name': 'manual'}], 'main_script': 'Hebrew', 'read_direction': 'rtl', 'line_offset': 0, 'valid_block_types': [{'pk': 263, 'name': 'Arabic'}, {'pk': 2, 'name': 'Main'}, {'pk': 268, 'name': 'Oblique_135'}, {'pk': 269, 'name': 'Oblique_225'}, {'pk': 613, 'name': 'Oblique_315'}, {'pk': 267, 'name': 'Oblique_45'}, {'pk': 264, 'name': 'Upside_Down'}, {'pk': 612, 'name': 'Vertical_Bottom_Up_90'}, {'pk': 611, 'name': 'Vertical_Top_Down_270'}], 'valid_line_types': [{'pk': 3, 'name': 'Correction'}], 'parts_count': 1693, 'tags': [], 'created_at': '2021-04-13T10:03:05.047075Z', 'updated_at': '2021-11-16T22:34:03.778208Z'}\n"
     ]
    }
   ],
   "source": [
    "print(len(my_documents))\n",
    "print(my_documents[0])"
   ]
  },
  {
   "cell_type": "markdown",
   "metadata": {},
   "source": [
    "## Convenience\n",
    "\n",
    "The connector provides several conveniences.  Perhaps the most broadly useful is automatically following the paging information to acquire the full dataset requested.  Here the request for document parts collects the full list of parts without the need to check if there are further pages of results available."
   ]
  },
  {
   "cell_type": "code",
   "execution_count": 9,
   "metadata": {},
   "outputs": [],
   "source": [
    "document_parts = escr.get_document_parts(18)"
   ]
  },
  {
   "cell_type": "code",
   "execution_count": 10,
   "metadata": {},
   "outputs": [
    {
     "name": "stdout",
     "output_type": "stream",
     "text": [
      "1670\n",
      "{'pk': 5651, 'name': '', 'filename': 'PGPID_3020_MS-TS-00010-J-00004-00008-000-00002.jpg', 'title': 'Element 2', 'typology': None, 'image': {'uri': '/media/documents/18/PGPID_3020_MS-TS-00010-J-00004-00008-000-00002.jpg', 'size': [2000, 1846], 'thumbnails': {'card': '/media/documents/18/PGPID_3020_MS-TS-00010-J-00004-00008-000-00002.jpg.180x180_q85_crop-smart.jpg', 'large': '/media/documents/18/PGPID_3020_MS-TS-00010-J-00004-00008-000-00002.jpg.1000x1000_q85.jpg'}}, 'image_file_size': 477991, 'bw_image': None, 'workflow': {'convert': 'done', 'segment': 'done', 'transcribe': 'done'}, 'order': 1, 'recoverable': False, 'transcription_progress': 100, 'source': ''}\n"
     ]
    }
   ],
   "source": [
    "print(len(document_parts))\n",
    "selected_part = document_parts[1]\n",
    "print(selected_part)"
   ]
  },
  {
   "cell_type": "markdown",
   "metadata": {},
   "source": [
    "## Downloading Files\n",
    "\n",
    "Images can be easily downloaded/uploaded with the connector. Also the exported XML files are available."
   ]
  },
  {
   "cell_type": "code",
   "execution_count": null,
   "metadata": {},
   "outputs": [],
   "source": [
    "image = escr.get_image(selected_part[\"image\"][\"uri\"])"
   ]
  },
  {
   "cell_type": "code",
   "execution_count": null,
   "metadata": {},
   "outputs": [],
   "source": [
    "from IPython.display import Image\n",
    "display(Image(image))"
   ]
  },
  {
   "cell_type": "code",
   "execution_count": null,
   "metadata": {},
   "outputs": [],
   "source": [
    "import zipfile\n",
    "\n",
    "transcriptions = escr.get_document_transcriptions(document_pk)\n",
    "page_xmls_zipped = escr.download_part_pagexml_transcription(document_pk, [x[\"pk\"] for x in document_parts[0:4]], transcriptions[0][\"pk\"])\n",
    "\n",
    "# the bytes from the connector are from a zip file, so we need to unzip it\n",
    "zip = zipfile.ZipFile(io.BytesIO(page_xmls_zipped))\n",
    "page_xmls = [zip.read(x) for x in zip.infolist()]\n",
    "print(len(page_xmls))"
   ]
  },
  {
   "cell_type": "code",
   "execution_count": null,
   "metadata": {},
   "outputs": [],
   "source": [
    "import xml.dom.minidom as md\n",
    "\n",
    "# Let's see what it looks like:\n",
    "for page_xml in page_xmls:\n",
    "    dom = md.parse(io.BytesIO(page_xml))\n",
    "    pretty_xml = dom.toprettyxml()\n",
    "    # remove the weird newline issue:\n",
    "    pretty_xml = os.linesep.join([s for s in pretty_xml.splitlines() if s.strip()])\n",
    "    print(pretty_xml)"
   ]
  }
 ],
 "metadata": {
  "interpreter": {
   "hash": "992176f9ac3a5fb38f683c5704cfc93c65aa19cba437c332d4e9ba8aaa2f6a02"
  },
  "kernelspec": {
   "display_name": "Python 3.9.6 64-bit ('3.9.6': pyenv)",
   "name": "python3"
  },
  "language_info": {
   "codemirror_mode": {
    "name": "ipython",
    "version": 3
   },
   "file_extension": ".py",
   "mimetype": "text/x-python",
   "name": "python",
   "nbconvert_exporter": "python",
   "pygments_lexer": "ipython3",
   "version": "3.9.6"
  },
  "orig_nbformat": 4
 },
 "nbformat": 4,
 "nbformat_minor": 2
}
