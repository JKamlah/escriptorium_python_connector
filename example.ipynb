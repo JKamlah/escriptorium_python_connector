{
 "cells": [
  {
   "cell_type": "markdown",
   "metadata": {},
   "source": [
    "# Using the eScriptorium Connector\n",
    "\n",
    "This library provides a simple API to access the eScriptorium online platform.\n",
    "\n",
    "Install with `pip install escriptorium-connector` and import it as follows."
   ]
  },
  {
   "cell_type": "code",
   "execution_count": null,
   "metadata": {},
   "outputs": [
    {
     "ename": "ModuleNotFoundError",
     "evalue": "No module named 'lxml'",
     "output_type": "error",
     "traceback": [
      "\u001b[0;31m---------------------------------------------------------------------------\u001b[0m",
      "\u001b[0;31mModuleNotFoundError\u001b[0m                       Traceback (most recent call last)",
      "\u001b[0;32m<ipython-input-2-c73ee31a9e58>\u001b[0m in \u001b[0;36m<module>\u001b[0;34m\u001b[0m\n\u001b[0;32m----> 1\u001b[0;31m \u001b[0;32mfrom\u001b[0m \u001b[0msrc\u001b[0m\u001b[0;34m.\u001b[0m\u001b[0mescriptorium_connector\u001b[0m \u001b[0;32mimport\u001b[0m \u001b[0mEscriptoriumConnector\u001b[0m\u001b[0;34m\u001b[0m\u001b[0;34m\u001b[0m\u001b[0m\n\u001b[0m\u001b[1;32m      2\u001b[0m \u001b[0;32mimport\u001b[0m \u001b[0mos\u001b[0m\u001b[0;34m\u001b[0m\u001b[0;34m\u001b[0m\u001b[0m\n\u001b[1;32m      3\u001b[0m \u001b[0;32mfrom\u001b[0m \u001b[0mdotenv\u001b[0m \u001b[0;32mimport\u001b[0m \u001b[0mload_dotenv\u001b[0m\u001b[0;34m\u001b[0m\u001b[0;34m\u001b[0m\u001b[0m\n\u001b[1;32m      4\u001b[0m \u001b[0;32mimport\u001b[0m \u001b[0mio\u001b[0m\u001b[0;34m\u001b[0m\u001b[0;34m\u001b[0m\u001b[0m\n",
      "\u001b[0;32m~/code_projects/EPHE/escriptorium_python_connector/src/escriptorium_connector/__init__.py\u001b[0m in \u001b[0;36m<module>\u001b[0;34m\u001b[0m\n\u001b[0;32m----> 1\u001b[0;31m \u001b[0;32mfrom\u001b[0m \u001b[0;34m.\u001b[0m\u001b[0mconnector\u001b[0m \u001b[0;32mimport\u001b[0m \u001b[0mEscriptoriumConnector\u001b[0m\u001b[0;34m\u001b[0m\u001b[0;34m\u001b[0m\u001b[0m\n\u001b[0m\u001b[1;32m      2\u001b[0m from .models import (\n\u001b[1;32m      3\u001b[0m     \u001b[0mPostDocument\u001b[0m\u001b[0;34m,\u001b[0m\u001b[0;34m\u001b[0m\u001b[0;34m\u001b[0m\u001b[0m\n\u001b[1;32m      4\u001b[0m     \u001b[0mPutDocument\u001b[0m\u001b[0;34m,\u001b[0m\u001b[0;34m\u001b[0m\u001b[0;34m\u001b[0m\u001b[0m\n\u001b[1;32m      5\u001b[0m     \u001b[0mGetDocument\u001b[0m\u001b[0;34m,\u001b[0m\u001b[0;34m\u001b[0m\u001b[0;34m\u001b[0m\u001b[0m\n",
      "\u001b[0;32m~/code_projects/EPHE/escriptorium_python_connector/src/escriptorium_connector/connector.py\u001b[0m in \u001b[0;36m<module>\u001b[0;34m\u001b[0m\n\u001b[1;32m     14\u001b[0m \u001b[0;32mfrom\u001b[0m \u001b[0mio\u001b[0m \u001b[0;32mimport\u001b[0m \u001b[0mBytesIO\u001b[0m\u001b[0;34m\u001b[0m\u001b[0;34m\u001b[0m\u001b[0m\n\u001b[1;32m     15\u001b[0m \u001b[0;32mfrom\u001b[0m \u001b[0mtyping\u001b[0m \u001b[0;32mimport\u001b[0m \u001b[0mAny\u001b[0m\u001b[0;34m,\u001b[0m \u001b[0mUnion\u001b[0m\u001b[0;34m,\u001b[0m \u001b[0mList\u001b[0m\u001b[0;34m,\u001b[0m \u001b[0mDict\u001b[0m\u001b[0;34m,\u001b[0m \u001b[0mType\u001b[0m\u001b[0;34m,\u001b[0m \u001b[0mTypeVar\u001b[0m\u001b[0;34m\u001b[0m\u001b[0;34m\u001b[0m\u001b[0m\n\u001b[0;32m---> 16\u001b[0;31m \u001b[0;32mfrom\u001b[0m \u001b[0mlxml\u001b[0m \u001b[0;32mimport\u001b[0m \u001b[0mhtml\u001b[0m\u001b[0;34m\u001b[0m\u001b[0;34m\u001b[0m\u001b[0m\n\u001b[0m\u001b[1;32m     17\u001b[0m \u001b[0;32mimport\u001b[0m \u001b[0mrequests\u001b[0m\u001b[0;34m\u001b[0m\u001b[0;34m\u001b[0m\u001b[0m\n\u001b[1;32m     18\u001b[0m \u001b[0;32mfrom\u001b[0m \u001b[0mrequests\u001b[0m\u001b[0;34m.\u001b[0m\u001b[0mpackages\u001b[0m\u001b[0;34m.\u001b[0m\u001b[0murllib3\u001b[0m\u001b[0;34m.\u001b[0m\u001b[0mutil\u001b[0m\u001b[0;34m.\u001b[0m\u001b[0mretry\u001b[0m \u001b[0;32mimport\u001b[0m \u001b[0mRetry\u001b[0m\u001b[0;34m\u001b[0m\u001b[0;34m\u001b[0m\u001b[0m\n",
      "\u001b[0;31mModuleNotFoundError\u001b[0m: No module named 'lxml'"
     ]
    }
   ],
   "source": [
    "from escriptorium_connector import EscriptoriumConnector\n",
    "import os\n",
    "from dotenv import load_dotenv\n",
    "import io"
   ]
  },
  {
   "cell_type": "markdown",
   "metadata": {},
   "source": [
    "## Instantiating the connector\n",
    "\n",
    "It is probably a best practice to store your validation credentials separately. Here we use `python-dotenv` to load from a `.env` file the user's login credentials and the eScriptorium instance address.\n",
    "\n",
    "The url of the eScriptorium instance is passed to the connector along with the url address for its api and the user's login credentials. The connector will take care of getting the API key for the user and any necessary cookies for asynchronous requests."
   ]
  },
  {
   "cell_type": "code",
   "execution_count": 6,
   "metadata": {},
   "outputs": [],
   "source": [
    "load_dotenv()\n",
    "url = str(os.getenv('ESCRIPTORIUM_URL'))\n",
    "api = f'{url}api/'\n",
    "username = str(os.getenv('ESCRIPTORIUM_USERNAME'))\n",
    "password = str(os.getenv('ESCRIPTORIUM_PASSWORD'))\n",
    "escr = EscriptoriumConnector(url, api, username, password)"
   ]
  },
  {
   "cell_type": "markdown",
   "metadata": {},
   "source": [
    "## Usage\n",
    "\n",
    "Once instantiated, the connector provides well-documented and convenient methods to interact with your data on eScriptorium.\n",
    "\n",
    "You might get a list of all your documents."
   ]
  },
  {
   "cell_type": "code",
   "execution_count": 7,
   "metadata": {},
   "outputs": [],
   "source": [
    "my_documents = escr.get_documents()\n",
    "document_pk = my_documents.results[0].pk\n"
   ]
  },
  {
   "cell_type": "code",
   "execution_count": 8,
   "metadata": {},
   "outputs": [
    {
     "name": "stdout",
     "output_type": "stream",
     "text": [
      "12\n",
      "GetDocument(pk=944, name='Segmentation_Complex_Undergrads', project='princeton_pgp_undergrad_project', main_script='Hebrew', read_direction=<ReadDirection.RTL: 'rtl'>, line_offset=<LineOffset.TOPLINE: 1>, parts_count=300, created_at=<DateTime '2021-10-16T21:23:35.285034Z' at 0x7f37fea7be20>, updated_at=<DateTime '2021-11-23T21:02:04.555713Z' at 0x7f37fea7bf40>, transcriptions=[GetTranscription(pk=1716, name='manual')], valid_block_types=[GetRegionType(pk=662, name='Arabic'), GetRegionType(pk=2, name='Main'), GetRegionType(pk=664, name='Oblique_135'), GetRegionType(pk=665, name='Oblique_225'), GetRegionType(pk=666, name='Oblique_315'), GetRegionType(pk=663, name='Oblique_45'), GetRegionType(pk=659, name='Upside_Down'), GetRegionType(pk=660, name='Vertical_Bottom_Up_90'), GetRegionType(pk=716, name='Vertical_Top_Down_270')], valid_line_types=[GetLineType(pk=3, name='Correction')], tags=[])\n"
     ]
    }
   ],
   "source": [
    "print(len(my_documents.results))\n",
    "print(my_documents.results[0])"
   ]
  },
  {
   "cell_type": "markdown",
   "metadata": {},
   "source": [
    "## Convenience\n",
    "\n",
    "The connector provides several conveniences.  Perhaps the most broadly useful is automatically following the paging information to acquire the full dataset requested.  Here the request for document parts collects the full list of parts without the need to check if there are further pages of results available."
   ]
  },
  {
   "cell_type": "code",
   "execution_count": 9,
   "metadata": {},
   "outputs": [],
   "source": [
    "document_parts = escr.get_document_parts(document_pk)"
   ]
  },
  {
   "cell_type": "code",
   "execution_count": 10,
   "metadata": {},
   "outputs": [
    {
     "name": "stdout",
     "output_type": "stream",
     "text": [
      "300\n",
      "{'pk': 227518, 'name': '', 'filename': 'PGPID_5522_MS-TS-00012-00320-000-00001.jpg', 'title': 'Element 2', 'typology': None, 'image': {'uri': '/media/documents/944/PGPID_5522_MS-TS-00012-00320-000-00001.jpg', 'size': [1348, 2000], 'thumbnails': {'card': '/media/documents/944/PGPID_5522_MS-TS-00012-00320-000-00001.jpg.180x180_q85_crop-smart.jpg', 'large': '/media/documents/944/PGPID_5522_MS-TS-00012-00320-000-00001.jpg.1000x1000_q85.jpg'}}, 'image_file_size': 2693258, 'bw_image': None, 'workflow': {}, 'order': 1, 'recoverable': False, 'transcription_progress': 0, 'source': ''}\n"
     ]
    }
   ],
   "source": [
    "print(len(document_parts))\n",
    "selected_part = document_parts[1]\n",
    "print(selected_part)"
   ]
  },
  {
   "cell_type": "markdown",
   "metadata": {},
   "source": [
    "## Downloading Files\n",
    "\n",
    "Images can be easily downloaded/uploaded with the connector. Also the exported XML files are available."
   ]
  },
  {
   "cell_type": "code",
   "execution_count": null,
   "metadata": {},
   "outputs": [],
   "source": [
    "image = escr.get_image(selected_part[\"image\"][\"uri\"])"
   ]
  },
  {
   "cell_type": "code",
   "execution_count": null,
   "metadata": {},
   "outputs": [],
   "source": [
    "from IPython.display import Image\n",
    "display(Image(image))"
   ]
  },
  {
   "cell_type": "code",
   "execution_count": null,
   "metadata": {},
   "outputs": [],
   "source": [
    "import zipfile\n",
    "\n",
    "transcriptions = escr.get_document_transcriptions(document_pk)\n",
    "page_xmls_zipped = escr.download_part_pagexml_transcription(document_pk, [x[\"pk\"] for x in document_parts[0:4]], transcriptions[0][\"pk\"])\n",
    "\n",
    "# the bytes from the connector are from a zip file, so we need to unzip it\n",
    "zip = zipfile.ZipFile(io.BytesIO(page_xmls_zipped))\n",
    "page_xmls = [zip.read(x) for x in zip.infolist()]\n",
    "print(len(page_xmls))"
   ]
  },
  {
   "cell_type": "code",
   "execution_count": null,
   "metadata": {},
   "outputs": [],
   "source": [
    "import xml.dom.minidom as md\n",
    "\n",
    "# Let's see what it looks like:\n",
    "for page_xml in page_xmls:\n",
    "    dom = md.parse(io.BytesIO(page_xml))\n",
    "    pretty_xml = dom.toprettyxml()\n",
    "    # remove the weird newline issue:\n",
    "    pretty_xml = os.linesep.join([s for s in pretty_xml.splitlines() if s.strip()])\n",
    "    print(pretty_xml)"
   ]
  }
 ],
 "metadata": {
  "interpreter": {
   "hash": "992176f9ac3a5fb38f683c5704cfc93c65aa19cba437c332d4e9ba8aaa2f6a02"
  },
  "kernelspec": {
   "display_name": "Python 3.9.6 64-bit ('3.9.6': pyenv)",
   "name": "python3"
  },
  "language_info": {
   "codemirror_mode": {
    "name": "ipython",
    "version": 3
   },
   "file_extension": ".py",
   "mimetype": "text/x-python",
   "name": "python",
   "nbconvert_exporter": "python",
   "pygments_lexer": "ipython3",
   "version": "3.6.15"
  },
  "orig_nbformat": 4
 },
 "nbformat": 4,
 "nbformat_minor": 2
}
